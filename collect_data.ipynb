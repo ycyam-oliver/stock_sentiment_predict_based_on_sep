{
 "cells": [
  {
   "cell_type": "code",
   "execution_count": 1,
   "metadata": {},
   "outputs": [],
   "source": [
    "import yfinance as yf\n",
    "import pandas as pd\n",
    "\n",
    "from datetime import datetime, timedelta\n",
    "import feedparser\n",
    "import os\n",
    "import shutil"
   ]
  },
  {
   "cell_type": "code",
   "execution_count": 2,
   "metadata": {},
   "outputs": [],
   "source": [
    "share_symbol=\"NVDA\"\n",
    "start_date=\"2025-07-15\"\n",
    "end_date=\"2025-07-25\""
   ]
  },
  {
   "cell_type": "markdown",
   "metadata": {},
   "source": [
    "## Step 1: Collect stock price info "
   ]
  },
  {
   "cell_type": "code",
   "execution_count": 3,
   "metadata": {},
   "outputs": [],
   "source": [
    "def save_price_data(ticker=\"NVDA\", start_date=\"2020-01-01\", end_date=\"2023-12-31\", output_dir=\"data/price/preprocessed\"):\n",
    "    os.makedirs(output_dir, exist_ok=True)\n",
    "    output_file = os.path.join(output_dir, f\"{ticker}.txt\")\n",
    "\n",
    "    df = yf.download(ticker, start=start_date, end=end_date, auto_adjust=True)\n",
    "    df = df[[\"Open\", \"High\", \"Low\", \"Close\", \"Volume\"]].copy()\n",
    "    df.dropna(inplace=True)\n",
    "\n",
    "    prev_close = df[\"Close\"].shift(1)\n",
    "    df = df.iloc[1:].copy()  # drop first row with NaN\n",
    "\n",
    "    df[\"close_norm\"] = df[\"Close\"].values / prev_close.iloc[1:].values\n",
    "    df[\"open_norm\"] = df[\"Open\"].values / prev_close.iloc[1:].values\n",
    "    df[\"high_norm\"] = df[\"High\"].values / prev_close.iloc[1:].values\n",
    "    df[\"low_norm\"] = df[\"Low\"].values / prev_close.iloc[1:].values\n",
    "    df[\"close_change\"] = (df[\"Close\"].values - prev_close.iloc[1:].values) / prev_close.iloc[1:].values\n",
    "\n",
    "    with open(output_file, \"w\") as f:\n",
    "        for date, row in df.iterrows():\n",
    "            date_str = date.strftime(\"%Y-%m-%d\")\n",
    "            f.write(\n",
    "                f\"{date_str}\\t\"\n",
    "                f\"{row['close_norm'].item():.6f}\\t\"\n",
    "                f\"{row['open_norm'].item():.6f}\\t\"\n",
    "                f\"{row['high_norm'].item():.6f}\\t\"\n",
    "                f\"{row['low_norm'].item():.6f}\\t\"\n",
    "                f\"{row['close_change'].item():.6f}\\t\"\n",
    "                f\"{row['Volume'].item()}\\n\"\n",
    "            )\n",
    "\n",
    "    print(f\"Saved {ticker} price data to {output_file}\")\n"
   ]
  },
  {
   "cell_type": "code",
   "execution_count": 4,
   "metadata": {},
   "outputs": [
    {
     "name": "stderr",
     "output_type": "stream",
     "text": [
      "[*********************100%***********************]  1 of 1 completed"
     ]
    },
    {
     "name": "stdout",
     "output_type": "stream",
     "text": [
      "Saved NVDA price data to data/price/preprocessed/NVDA.txt\n"
     ]
    },
    {
     "name": "stderr",
     "output_type": "stream",
     "text": [
      "\n"
     ]
    }
   ],
   "source": [
    "# Example usage:\n",
    "save_price_data(ticker=share_symbol, start_date=start_date, end_date=end_date)"
   ]
  },
  {
   "cell_type": "markdown",
   "metadata": {},
   "source": [
    "## Step 2: News Headlines (used as \"Tweet\") info"
   ]
  },
  {
   "cell_type": "code",
   "execution_count": 5,
   "metadata": {},
   "outputs": [],
   "source": [
    "def scrape_google_news_rss(ticker, date_str=None, max_headlines=50, output_dir=\"data/news/raw\"):\n",
    "    day = date_str or datetime.utcnow().strftime(\"%Y-%m-%d\")\n",
    "    out_dir = os.path.join(output_dir, ticker)\n",
    "    os.makedirs(out_dir, exist_ok=True)\n",
    "    outfile = os.path.join(out_dir, f\"{day}.json\")\n",
    "\n",
    "    # Broader query to get more results (remove source filter)\n",
    "    query = f\"https://news.google.com/rss/search?q={ticker}\"\n",
    "    feed = feedparser.parse(query)\n",
    "\n",
    "    entries = feed.entries or []\n",
    "    saved = 0\n",
    "\n",
    "    with open(outfile, \"w\", encoding=\"utf-8\") as f:\n",
    "        for entry in entries:\n",
    "            if saved >= max_headlines:\n",
    "                break\n",
    "            title = entry.title.strip().replace('\"', r'\\\"')\n",
    "            if ticker.lower() in title.lower():\n",
    "                f.write(f'{{\"text\": \"{title}\"}}\\n')\n",
    "                saved += 1\n",
    "\n",
    "    print(f\"[GoogleRSS] Saved {saved} headlines for {ticker} on {day}\")\n",
    "\n",
    "def scrape_google_news_range(ticker, start_date=\"2025-07-20\", end_date=\"2025-07-28\", max_headlines=50, output_dir=\"data/news/raw\"):\n",
    "    start_dt = datetime.strptime(start_date, \"%Y-%m-%d\")\n",
    "    end_dt = datetime.strptime(end_date, \"%Y-%m-%d\")\n",
    "\n",
    "    for single_date in (start_dt + timedelta(n) for n in range((end_dt - start_dt).days + 1)):\n",
    "        dstr = single_date.strftime(\"%Y-%m-%d\")\n",
    "        scrape_google_news_rss(ticker=ticker, date_str=dstr, max_headlines=max_headlines, output_dir=output_dir)\n",
    "\n",
    "def move_news_to_sep(ticker, raw_base=\"data/news/raw\", sep_base=\"data/tweet/raw\"):\n",
    "    src_dir = os.path.join(raw_base, ticker)\n",
    "    dst_dir = os.path.join(sep_base, ticker)\n",
    "    os.makedirs(dst_dir, exist_ok=True)\n",
    "\n",
    "    for fname in os.listdir(src_dir):\n",
    "        if fname.endswith(\".json\"):\n",
    "            src_path = os.path.join(src_dir, fname)\n",
    "            dst_path = os.path.join(dst_dir, fname.replace(\".json\", \"\"))  # SEP expects no extension\n",
    "            shutil.copy(src_path, dst_path)\n",
    "\n",
    "    print(f\"Successfully integrated {ticker} news files into SEP tweet format {dst_dir}\")"
   ]
  },
  {
   "cell_type": "code",
   "execution_count": null,
   "metadata": {},
   "outputs": [
    {
     "name": "stdout",
     "output_type": "stream",
     "text": [
      "[GoogleRSS] Saved 20 headlines for NVDA on 2025-07-15\n",
      "[GoogleRSS] Saved 20 headlines for NVDA on 2025-07-16\n",
      "[GoogleRSS] Saved 20 headlines for NVDA on 2025-07-17\n",
      "[GoogleRSS] Saved 20 headlines for NVDA on 2025-07-18\n",
      "[GoogleRSS] Saved 20 headlines for NVDA on 2025-07-19\n",
      "[GoogleRSS] Saved 20 headlines for NVDA on 2025-07-20\n",
      "[GoogleRSS] Saved 20 headlines for NVDA on 2025-07-21\n",
      "[GoogleRSS] Saved 20 headlines for NVDA on 2025-07-22\n",
      "[GoogleRSS] Saved 20 headlines for NVDA on 2025-07-23\n",
      "[GoogleRSS] Saved 20 headlines for NVDA on 2025-07-24\n",
      "[GoogleRSS] Saved 20 headlines for NVDA on 2025-07-25\n",
      "Successfully integrated NVDA news files into SEP tweet format data/tweet/raw/NVDA\n"
     ]
    }
   ],
   "source": [
    "# get news headlines from google financial news\n",
    "scrape_google_news_range(share_symbol, start_date, end_date, max_headlines=20, output_dir=\"data/tweet/raw\")\n",
    " \n",
    "# integrate the collected data into the SEP tweet format and location for training/ inference\n",
    "move_news_to_sep(share_symbol)\n"
   ]
  },
  {
   "cell_type": "code",
   "execution_count": null,
   "metadata": {},
   "outputs": [],
   "source": []
  },
  {
   "cell_type": "code",
   "execution_count": null,
   "metadata": {},
   "outputs": [],
   "source": []
  }
 ],
 "metadata": {
  "kernelspec": {
   "display_name": "sep",
   "language": "python",
   "name": "python3"
  },
  "language_info": {
   "codemirror_mode": {
    "name": "ipython",
    "version": 3
   },
   "file_extension": ".py",
   "mimetype": "text/x-python",
   "name": "python",
   "nbconvert_exporter": "python",
   "pygments_lexer": "ipython3",
   "version": "3.10.16"
  }
 },
 "nbformat": 4,
 "nbformat_minor": 2
}
